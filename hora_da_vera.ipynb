{
 "cells": [
  {
   "cell_type": "code",
   "execution_count": 1,
   "metadata": {},
   "outputs": [],
   "source": [
    "import numpy as np\n",
    "import pandas as pd\n",
    "from scipy.stats import norm, ksone\n",
    "from kolmogorov_smirnov import kolmogorov_smirnov, kolmogorov_smirnov_"
   ]
  },
  {
   "cell_type": "code",
   "execution_count": 2,
   "metadata": {},
   "outputs": [
    {
     "data": {
      "text/plain": [
       "[[True,\n",
       "  'Dcalc = 0.0822 < Dtab = 0.2206',\n",
       "  'Aceito a hipótese H0 que a amostra segue uma distribuição normal.'],\n",
       " [True,\n",
       "  'Dcalc = 0.0794 < Dtab = 0.2544',\n",
       "  'Aceito a hipótese H0 que a amostra segue uma distribuição normal.'],\n",
       " [True,\n",
       "  'Dcalc = 0.1071 < Dtab = 0.2457',\n",
       "  'Aceito a hipótese H0 que a amostra segue uma distribuição normal.'],\n",
       " [True,\n",
       "  'Dcalc = 0.0928 < Dtab = 0.2267',\n",
       "  'Aceito a hipótese H0 que a amostra segue uma distribuição normal.'],\n",
       " [True,\n",
       "  'Dcalc = 0.1362 < Dtab = 0.2544',\n",
       "  'Aceito a hipótese H0 que a amostra segue uma distribuição normal.'],\n",
       " [True,\n",
       "  'Dcalc = 0.1051 < Dtab = 0.2342',\n",
       "  'Aceito a hipótese H0 que a amostra segue uma distribuição normal.'],\n",
       " [True,\n",
       "  'Dcalc = 0.0954 < Dtab = 0.2379',\n",
       "  'Aceito a hipótese H0 que a amostra segue uma distribuição normal.'],\n",
       " [True,\n",
       "  'Dcalc = 0.0961 < Dtab = 0.2267',\n",
       "  'Aceito a hipótese H0 que a amostra segue uma distribuição normal.'],\n",
       " [True,\n",
       "  'Dcalc = 0.1069 < Dtab = 0.2417',\n",
       "  'Aceito a hipótese H0 que a amostra segue uma distribuição normal.'],\n",
       " [True,\n",
       "  'Dcalc = 0.1236 < Dtab = 0.2640',\n",
       "  'Aceito a hipótese H0 que a amostra segue uma distribuição normal.'],\n",
       " [True,\n",
       "  'Dcalc = 0.1196 < Dtab = 0.3273',\n",
       "  'Aceito a hipótese H0 que a amostra segue uma distribuição normal.'],\n",
       " [True,\n",
       "  'Dcalc = 0.1468 < Dtab = 0.4300',\n",
       "  'Aceito a hipótese H0 que a amostra segue uma distribuição normal.'],\n",
       " [True,\n",
       "  'Dcalc = 0.0994 < Dtab = 0.2379',\n",
       "  'Aceito a hipótese H0 que a amostra segue uma distribuição normal.'],\n",
       " [True,\n",
       "  'Dcalc = 0.1553 < Dtab = 0.4300',\n",
       "  'Aceito a hipótese H0 que a amostra segue uma distribuição normal.'],\n",
       " [True,\n",
       "  'Dcalc = 0.1267 < Dtab = 0.3376',\n",
       "  'Aceito a hipótese H0 que a amostra segue uma distribuição normal.'],\n",
       " [True,\n",
       "  'Dcalc = 0.1309 < Dtab = 0.2941',\n",
       "  'Aceito a hipótese H0 que a amostra segue uma distribuição normal.'],\n",
       " [True,\n",
       "  'Dcalc = 0.1343 < Dtab = 0.3912',\n",
       "  'Aceito a hipótese H0 que a amostra segue uma distribuição normal.'],\n",
       " [True,\n",
       "  'Dcalc = 0.1190 < Dtab = 0.3376',\n",
       "  'Aceito a hipótese H0 que a amostra segue uma distribuição normal.'],\n",
       " [True,\n",
       "  'Dcalc = 0.0986 < Dtab = 0.2342',\n",
       "  'Aceito a hipótese H0 que a amostra segue uma distribuição normal.'],\n",
       " [True,\n",
       "  'Dcalc = 0.1587 < Dtab = 0.2544',\n",
       "  'Aceito a hipótese H0 que a amostra segue uma distribuição normal.']]"
      ]
     },
     "execution_count": 2,
     "metadata": {},
     "output_type": "execute_result"
    }
   ],
   "source": [
    "kolmogorov_smirnov(\"amostras_normais.csv\", 0.05)"
   ]
  },
  {
   "cell_type": "code",
   "execution_count": 4,
   "metadata": {},
   "outputs": [
    {
     "data": {
      "text/plain": [
       "[[True,\n",
       "  'Dcalc = 0.3409 > Dtab = 0.2206',\n",
       "  'Rejeito a hipótese H0 que a amostra segue uma distribuição normal'],\n",
       " [True,\n",
       "  'Dcalc = 0.4036 > Dtab = 0.2206',\n",
       "  'Rejeito a hipótese H0 que a amostra segue uma distribuição normal'],\n",
       " [True,\n",
       "  'Dcalc = 0.4967 > Dtab = 0.2206',\n",
       "  'Rejeito a hipótese H0 que a amostra segue uma distribuição normal'],\n",
       " [True,\n",
       "  'Dcalc = 0.3014 > Dtab = 0.2206',\n",
       "  'Rejeito a hipótese H0 que a amostra segue uma distribuição normal'],\n",
       " [True,\n",
       "  'Dcalc = 0.5369 > Dtab = 0.2206',\n",
       "  'Rejeito a hipótese H0 que a amostra segue uma distribuição normal'],\n",
       " [True,\n",
       "  'Dcalc = 0.3886 > Dtab = 0.2206',\n",
       "  'Rejeito a hipótese H0 que a amostra segue uma distribuição normal'],\n",
       " [True,\n",
       "  'Dcalc = 0.5249 > Dtab = 0.2206',\n",
       "  'Rejeito a hipótese H0 que a amostra segue uma distribuição normal'],\n",
       " [True,\n",
       "  'Dcalc = 0.5614 > Dtab = 0.2206',\n",
       "  'Rejeito a hipótese H0 que a amostra segue uma distribuição normal'],\n",
       " [True,\n",
       "  'Dcalc = 0.5142 > Dtab = 0.2206',\n",
       "  'Rejeito a hipótese H0 que a amostra segue uma distribuição normal'],\n",
       " [True,\n",
       "  'Dcalc = 0.3787 > Dtab = 0.2206',\n",
       "  'Rejeito a hipótese H0 que a amostra segue uma distribuição normal']]"
      ]
     },
     "execution_count": 4,
     "metadata": {},
     "output_type": "execute_result"
    }
   ],
   "source": [
    "kolmogorov_smirnov_(\"amostras_gamma.csv\", 0.05)"
   ]
  },
  {
   "cell_type": "code",
   "execution_count": 5,
   "metadata": {},
   "outputs": [
    {
     "data": {
      "text/plain": [
       "[[True,\n",
       "  'Dcalc = 0.4013 > Dtab = 0.2267',\n",
       "  'Rejeito a hipótese H0 que a amostra segue uma distribuição normal'],\n",
       " [True,\n",
       "  'Dcalc = 0.3409 > Dtab = 0.2267',\n",
       "  'Rejeito a hipótese H0 que a amostra segue uma distribuição normal'],\n",
       " [True,\n",
       "  'Dcalc = 0.5113 > Dtab = 0.2267',\n",
       "  'Rejeito a hipótese H0 que a amostra segue uma distribuição normal'],\n",
       " [True,\n",
       "  'Dcalc = 0.3921 > Dtab = 0.2267',\n",
       "  'Rejeito a hipótese H0 que a amostra segue uma distribuição normal'],\n",
       " [True,\n",
       "  'Dcalc = 0.6627 > Dtab = 0.2267',\n",
       "  'Rejeito a hipótese H0 que a amostra segue uma distribuição normal'],\n",
       " [True,\n",
       "  'Dcalc = 0.4426 > Dtab = 0.2267',\n",
       "  'Rejeito a hipótese H0 que a amostra segue uma distribuição normal'],\n",
       " [True,\n",
       "  'Dcalc = 0.6954 > Dtab = 0.2267',\n",
       "  'Rejeito a hipótese H0 que a amostra segue uma distribuição normal'],\n",
       " [True,\n",
       "  'Dcalc = 0.3280 > Dtab = 0.2267',\n",
       "  'Rejeito a hipótese H0 que a amostra segue uma distribuição normal'],\n",
       " [True,\n",
       "  'Dcalc = 0.5893 > Dtab = 0.2267',\n",
       "  'Rejeito a hipótese H0 que a amostra segue uma distribuição normal'],\n",
       " [True,\n",
       "  'Dcalc = 0.4226 > Dtab = 0.2267',\n",
       "  'Rejeito a hipótese H0 que a amostra segue uma distribuição normal']]"
      ]
     },
     "execution_count": 5,
     "metadata": {},
     "output_type": "execute_result"
    }
   ],
   "source": [
    "kolmogorov_smirnov_(\"amostras_quiquad.csv\", 0.05)"
   ]
  }
 ],
 "metadata": {
  "kernelspec": {
   "display_name": "Python 3",
   "language": "python",
   "name": "python3"
  },
  "language_info": {
   "codemirror_mode": {
    "name": "ipython",
    "version": 3
   },
   "file_extension": ".py",
   "mimetype": "text/x-python",
   "name": "python",
   "nbconvert_exporter": "python",
   "pygments_lexer": "ipython3",
   "version": "3.11.4"
  }
 },
 "nbformat": 4,
 "nbformat_minor": 2
}
