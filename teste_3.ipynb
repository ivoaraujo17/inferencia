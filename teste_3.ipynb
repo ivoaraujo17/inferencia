{
 "cells": [
  {
   "cell_type": "code",
   "execution_count": 13,
   "metadata": {},
   "outputs": [],
   "source": [
    "from scipy import stats\n",
    "import numpy as np"
   ]
  },
  {
   "cell_type": "markdown",
   "metadata": {},
   "source": [
    "## Teste Z (desvio padrão populacional conhecido)"
   ]
  },
  {
   "cell_type": "code",
   "execution_count": 45,
   "metadata": {},
   "outputs": [],
   "source": [
    "def teste_z(tamanho_da_amostra,media_populacional, media_amostral, desvio_padrao_pop, alpha, bilateral = True):\n",
    "    # Encontrando o Zcalc\n",
    "    numerador_zcalc = media_amostral - media_populacional\n",
    "    denominador_zcalc = desvio_padrao_pop / np.sqrt(tamanho_da_amostra)\n",
    "    Zcalc = numerador_zcalc / denominador_zcalc\n",
    "\n",
    "    # Encontrando o Zcrit\n",
    "    Zcrit = stats.norm.ppf(1 - alpha/2) if bilateral else stats.norm.ppf(1 - alpha)\n",
    "    \"\"\"stats.norm.ppf(1 - alfa/2) calcula o valor crítico Z para um teste bicaudal (bilateral) com um nível de \n",
    "    significância de alpha/2 em cada cauda da distribuição normal padrão. Para um teste unicaudal (unilateral),\n",
    "    basta utilizar (1 - alpha)\"\"\"\n",
    "\n",
    "    # Imprimindo os resultados\n",
    "    print(f\"Zcalc = {Zcalc}\")\n",
    "    print(f\"Zcrit = {Zcrit}\")\n",
    "\n",
    "    if abs(Zcalc) < abs(Zcrit):\n",
    "        print(f\"|Zcalc| = {abs(Zcalc)} < |Zcrit| = {abs(Zcrit)}\")\n",
    "        print(f\"Aceito a hipótese H0 em que a média populacional é = {media_populacional}\")\n",
    "    else:\n",
    "        print(f\"|Zcalc| = {abs(Zcalc)} > |Zcrit| = {abs(Zcrit)}\")\n",
    "        print(f\"Rejeito a hipótese H0 em que a média populacional é = {media_populacional}\")\n",
    "\n"
   ]
  },
  {
   "cell_type": "code",
   "execution_count": 46,
   "metadata": {},
   "outputs": [
    {
     "name": "stdout",
     "output_type": "stream",
     "text": [
      "Zcalc = -0.9721111047611799\n",
      "Zcrit = 1.6448536269514722\n",
      "|Zcalc| = 0.9721111047611799 < |Zcrit| = 1.6448536269514722\n",
      "Aceito a hipótese H0 em que a média populacional é = 4.2\n"
     ]
    }
   ],
   "source": [
    "tamanho_da_amostra = 42\n",
    "media_populacional = 4.2\n",
    "media_amostral = 3.9\n",
    "desvio_padrao_populacional = 2\n",
    "alpha = 0.05\n",
    "teste_z(tamanho_da_amostra,media_populacional, media_amostral, desvio_padrao_populacional, alpha, \n",
    "        bilateral = False)\n"
   ]
  },
  {
   "cell_type": "markdown",
   "metadata": {},
   "source": [
    "## Teste t-student (desvio padrão populacional desconhecido)"
   ]
  },
  {
   "cell_type": "code",
   "execution_count": 47,
   "metadata": {},
   "outputs": [],
   "source": [
    "def t_student(tamanho_da_amostra, media_populacional, media_amostral, desvio_padrao_amostral, alpha, \n",
    "              bilateral = True):\n",
    "    # Encontrando o Zcalc\n",
    "    numerador_zcalc = media_amostral - media_populacional\n",
    "    denominador_zcalc = desvio_padrao_amostral / np.sqrt(tamanho_da_amostra)\n",
    "    Zcalc = numerador_zcalc / denominador_zcalc\n",
    "\n",
    "    # Encontrando o Zcrit\n",
    "    Zcrit = stats.t.ppf(1 - alpha/2, tamanho_da_amostra - 1) if bilateral else stats.t.ppf(1 - alpha, \n",
    "                                                                                           tamanho_da_amostra - 1)\n",
    "    \"\"\"stats.t.ppf(1 - alpha/2, tamanho_da_amostra - 1) calcula o valor crítico de uma distribuição t-Student \n",
    "    bilateral com (tamanho_da_amostra - 1) graus de liberdade e um nível de significância de alpha/2. Caso seja\n",
    "    um teste unilateral, basta utilizar (1 - alpha)\"\"\"\n",
    "    \n",
    "    # Imprimindo os resultados\n",
    "    print(f\"Zcalc = {Zcalc}\")\n",
    "    print(f\"Zcrit = {Zcrit}\")\n",
    "\n",
    "    if abs(Zcalc) < abs(Zcrit):\n",
    "        print(f\"|Zcalc| = {abs(Zcalc)} < |Zcrit| = {abs(Zcrit)}\")\n",
    "        print(f\"Aceito a hipótese H0 em que a média populacional é = {media_populacional}\")\n",
    "    else:\n",
    "        print(f\"|Zcalc| = {abs(Zcalc)} > |Zcrit| = {abs(Zcrit)}\")\n",
    "        print(f\"Rejeito a hipótese H0 em que a média populacional é = {media_populacional}\")\n",
    "                                                                                           \n",
    "    "
   ]
  },
  {
   "cell_type": "markdown",
   "metadata": {},
   "source": [
    "Exemplo: Supondo que a distribuição dos valores da glicemia de jejum em uma população de pessoas não diabéticas seja normal, um pesquisador deseja testar a hipótese de que a média de glicemia de jejum nessa população seja igual a 85 mg/dl. Sabemos que a variável aleatória X possui uma distribuição normal com média μ, mas não sabemos a variância nem o desvio padrão dessa população. Uma amostra de tamanho 36 dessa população gerou os seguintes dados:\n",
    "Média populacional de 92 mg/dl, desvio padrão amostral de 16 mg/dl."
   ]
  },
  {
   "cell_type": "code",
   "execution_count": 49,
   "metadata": {},
   "outputs": [
    {
     "name": "stdout",
     "output_type": "stream",
     "text": [
      "H0: Segue uma distribuição normal com média populacional igual a 85 mg/dl\n",
      "H1: Segue uma distribuição normal com média populacional diferente de 85 mg/dl\n",
      "Zcalc = 2.625\n",
      "Zcrit = 2.030107928250343\n",
      "|Zcalc| = 2.625 > |Zcrit| = 2.030107928250343\n",
      "Rejeito a hipótese H0 em que a média populacional é = 85\n"
     ]
    }
   ],
   "source": [
    "tamanho_da_amostra = 36\n",
    "media_populacional = 85\n",
    "media_amostral = 92\n",
    "desvio_padrao_amostral = 16\n",
    "alpha = 0.05\n",
    "print(\"H0: Segue uma distribuição normal com média populacional igual a 85 mg/dl\")\n",
    "print(\"H1: Segue uma distribuição normal com média populacional diferente de 85 mg/dl\")\n",
    "t_student(tamanho_da_amostra, media_populacional, media_amostral, desvio_padrao_amostral, alpha)\n"
   ]
  },
  {
   "cell_type": "code",
   "execution_count": 50,
   "metadata": {},
   "outputs": [
    {
     "name": "stdout",
     "output_type": "stream",
     "text": [
      "H0: Segue uma distribuição normal com média populacional igual a 85 mg/dl\n",
      "H1: Segue uma distribuição normal com média populacional diferente de 85 mg/dl\n",
      "Zcalc = 1.5\n",
      "Zcrit = 2.030107928250343\n",
      "|Zcalc| = 1.5 < |Zcrit| = 2.030107928250343\n",
      "Aceito a hipótese H0 em que a média populacional é = 85\n"
     ]
    }
   ],
   "source": [
    "# Agora com uma amostra de tamanho 36, média amostral = 89 mg/dl e desvio padrão amostral = 16 mg/dl\n",
    "tamanho_da_amostra = 36\n",
    "media_populacional = 85\n",
    "media_amostral = 89\n",
    "desvio_padrao_amostral = 16\n",
    "alpha = 0.05\n",
    "print(\"H0: Segue uma distribuição normal com média populacional igual a 85 mg/dl\")\n",
    "print(\"H1: Segue uma distribuição normal com média populacional diferente de 85 mg/dl\")\n",
    "t_student(tamanho_da_amostra, media_populacional, media_amostral, desvio_padrao_amostral, alpha)"
   ]
  },
  {
   "cell_type": "code",
   "execution_count": null,
   "metadata": {},
   "outputs": [],
   "source": []
  }
 ],
 "metadata": {
  "kernelspec": {
   "display_name": "Python 3",
   "language": "python",
   "name": "python3"
  },
  "language_info": {
   "codemirror_mode": {
    "name": "ipython",
    "version": 3
   },
   "file_extension": ".py",
   "mimetype": "text/x-python",
   "name": "python",
   "nbconvert_exporter": "python",
   "pygments_lexer": "ipython3",
   "version": "3.11.4"
  }
 },
 "nbformat": 4,
 "nbformat_minor": 2
}
